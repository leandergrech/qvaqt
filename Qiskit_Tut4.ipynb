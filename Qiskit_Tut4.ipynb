{
 "cells": [
  {
   "cell_type": "markdown",
   "id": "73f9636b-f028-4696-b1b6-e313e9d5539b",
   "metadata": {},
   "source": [
    "# Transpiler passses and Pass manager\n",
    "\n",
    "- transpiler - easily write new circuit transformations - aka *transpiler passes* - combine them with existing passes\n",
    "- passes are chained together - pipline determined by pass manager - ordering is important\n",
    "- opens up door for aggressive optimization of quantum circuits -  whatever that means"
   ]
  },
  {
   "cell_type": "code",
   "execution_count": 2,
   "id": "515259a4-86ef-404d-99be-2f051bec63e4",
   "metadata": {},
   "outputs": [],
   "source": [
    "from qiskit import QuantumCircuit\n",
    "from qiskit.compiler import transpile\n",
    "from qiskit.transpiler import PassManager"
   ]
  },
  {
   "cell_type": "code",
   "execution_count": 3,
   "id": "794a4dbc-ef68-4b93-b245-9945c53cf130",
   "metadata": {},
   "outputs": [
    {
     "data": {
      "image/png": "[encoded data removed]",
      "text/plain": [
       "<Figure size 203.885x284.278 with 1 Axes>"
      ]
     },
     "execution_count": 3,
     "metadata": {},
     "output_type": "execute_result"
    }
   ],
   "source": [
    "c = QuantumCircuit(3)\n",
    "c.ccx(0, 1, 2)\n",
    "c.draw('mpl')"
   ]
  },
  {
   "cell_type": "code",
   "execution_count": 8,
   "id": "c23319f5-dda7-48b1-94d7-1973b6494fca",
   "metadata": {},
   "outputs": [
    {
     "data": {
      "image/png": "[encoded data removed]",
      "text/plain": [
       "<Figure size 1040x284.278 with 1 Axes>"
      ]
     },
     "execution_count": 8,
     "metadata": {},
     "output_type": "execute_result"
    }
   ],
   "source": [
    "from qiskit.transpiler.passes import Unroller\n",
    "\n",
    "pass_ = Unroller(['u1', 'u2', 'cx'])\n",
    "pm = PassManager(pass_)\n",
    "new_c = pm.run(c)\n",
    "new_c.draw('mpl')"
   ]
  },
  {
   "cell_type": "code",
   "execution_count": 11,
   "id": "eafb8199-8e14-4825-8fbc-00e056a437e4",
   "metadata": {},
   "outputs": [
    {
     "data": {
      "text/plain": [
       "['ALAPSchedule',\n",
       " 'ALAPScheduleAnalysis',\n",
       " 'ASAPSchedule',\n",
       " 'ASAPScheduleAnalysis',\n",
       " 'AlignMeasures',\n",
       " 'ApplyLayout',\n",
       " 'BIPMapping',\n",
       " 'BarrierBeforeFinalMeasurements',\n",
       " 'BasicSwap',\n",
       " 'BasisTranslator',\n",
       " 'CSPLayout',\n",
       " 'CXCancellation',\n",
       " 'CXDirection',\n",
       " 'CheckCXDirection',\n",
       " 'CheckGateDirection',\n",
       " 'CheckMap',\n",
       " 'Collect1qRuns',\n",
       " 'Collect2qBlocks',\n",
       " 'CollectLinearFunctions',\n",
       " 'CollectMultiQBlocks',\n",
       " 'CommutationAnalysis',\n",
       " 'CommutativeCancellation',\n",
       " 'CommutativeInverseCancellation',\n",
       " 'Commuting2qGateRouter',\n",
       " 'ConsolidateBlocks',\n",
       " 'ConstrainedReschedule',\n",
       " 'ContainsInstruction',\n",
       " 'ConvertConditionsToIfOps',\n",
       " 'CountOps',\n",
       " 'CountOpsLongestPath',\n",
       " 'CrosstalkAdaptiveSchedule',\n",
       " 'DAGFixedPoint',\n",
       " 'DAGLongestPath',\n",
       " 'Decompose',\n",
       " 'DenseLayout',\n",
       " 'Depth',\n",
       " 'DynamicalDecoupling',\n",
       " 'EchoRZXWeylDecomposition',\n",
       " 'EnlargeWithAncilla',\n",
       " 'Error',\n",
       " 'FixedPoint',\n",
       " 'FullAncillaAllocation',\n",
       " 'GateDirection',\n",
       " 'GatesInBasis',\n",
       " 'HLSConfig',\n",
       " 'HighLevelSynthesis',\n",
       " 'HoareOptimizer',\n",
       " 'InstructionDurationCheck',\n",
       " 'InverseCancellation',\n",
       " 'Layout2qDistance',\n",
       " 'LayoutTransformation',\n",
       " 'LinearFunctionsSynthesis',\n",
       " 'LinearFunctionsToPermutations',\n",
       " 'LookaheadSwap',\n",
       " 'MergeAdjacentBarriers',\n",
       " 'NoiseAdaptiveLayout',\n",
       " 'NumTensorFactors',\n",
       " 'Optimize1qGates',\n",
       " 'Optimize1qGatesDecomposition',\n",
       " 'Optimize1qGatesSimpleCommutation',\n",
       " 'OptimizeCliffords',\n",
       " 'OptimizeSwapBeforeMeasure',\n",
       " 'PadDelay',\n",
       " 'PadDynamicalDecoupling',\n",
       " 'PulseGates',\n",
       " 'RZXCalibrationBuilder',\n",
       " 'RZXCalibrationBuilderNoEcho',\n",
       " 'RemoveBarriers',\n",
       " 'RemoveDiagonalGatesBeforeMeasure',\n",
       " 'RemoveFinalMeasurements',\n",
       " 'RemoveResetInZeroState',\n",
       " 'ResetAfterMeasureSimplification',\n",
       " 'ResourceEstimation',\n",
       " 'SabreLayout',\n",
       " 'SabreSwap',\n",
       " 'SetIOLatency',\n",
       " 'SetLayout',\n",
       " 'Size',\n",
       " 'StochasticSwap',\n",
       " 'TemplateOptimization',\n",
       " 'TimeUnitConversion',\n",
       " 'TrivialLayout',\n",
       " 'UnitarySynthesis',\n",
       " 'Unroll3qOrMore',\n",
       " 'UnrollCustomDefinitions',\n",
       " 'Unroller',\n",
       " 'VF2Layout',\n",
       " 'VF2PostLayout',\n",
       " 'ValidatePulseGates',\n",
       " 'Width']"
      ]
     },
     "execution_count": 11,
     "metadata": {},
     "output_type": "execute_result"
    }
   ],
   "source": [
    "from qiskit.transpiler import passes\n",
    "[pass_ for pass_ in dir(passes) if pass_ [0].isupper()]"
   ]
  },
  {
   "cell_type": "code",
   "execution_count": null,
   "id": "2003c416-7ef0-4fdc-b820-e53fbf6e7988",
   "metadata": {},
   "outputs": [],
   "source": []
  },
  {
   "cell_type": "code",
   "execution_count": null,
   "id": "014f61b7-69d5-4741-9d49-67cf54cc6fea",
   "metadata": {},
   "outputs": [],
   "source": []
  }
 ],
 "metadata": {
  "kernelspec": {
   "display_name": "Python 3 (ipykernel)",
   "language": "python",
   "name": "python3"
  },
  "language_info": {
   "codemirror_mode": {
    "name": "ipython",
    "version": 3
   },
   "file_extension": ".py",
   "mimetype": "text/x-python",
   "name": "python",
   "nbconvert_exporter": "python",
   "pygments_lexer": "ipython3",
   "version": "3.10.8"
  }
 },
 "nbformat": 4,
 "nbformat_minor": 5
}
