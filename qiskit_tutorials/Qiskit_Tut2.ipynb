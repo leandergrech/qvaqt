{
 "cells": [
  {
   "cell_type": "markdown",
   "id": "0866bf52-15c7-4ab9-8c8e-a52186f4f28d",
   "metadata": {},
   "source": [
    "# Operators"
   ]
  },
  {
   "cell_type": "code",
   "execution_count": 1,
   "id": "49b81a15-d6f5-4167-b9f8-8c7bb7fd90df",
   "metadata": {},
   "outputs": [],
   "source": [
    "import numpy as np\n",
    "\n",
    "from qiskit import *\n",
    "from qiskit.compiler import transpile\n",
    "from qiskit.quantum_info.operators import Operator, Pauli\n",
    "from qiskit.quantum_info import process_fidelity\n",
    "\n",
    "from qiskit.extensions import RXGate, XGate, CXGate"
   ]
  },
  {
   "cell_type": "markdown",
   "id": "990c1a43-78d1-4a89-af3f-caee8c6fa641",
   "metadata": {},
   "source": [
    "## Operator class\n",
    "\n",
    "`Operator` represents matrix operator acting on a quantum system. Operators can be nested and combined in a composition.\n",
    "\n",
    "e.g. create a 2-qubit Pauli-XX operator"
   ]
  },
  {
   "cell_type": "code",
   "execution_count": 5,
   "id": "5642b402-8733-49ff-a8fe-49a79d600931",
   "metadata": {},
   "outputs": [
    {
     "name": "stdout",
     "output_type": "stream",
     "text": [
      "Operator([[0.+0.j, 0.+0.j, 0.+0.j, 1.+0.j],\n",
      "          [0.+0.j, 0.+0.j, 1.+0.j, 0.+0.j],\n",
      "          [0.+0.j, 1.+0.j, 0.+0.j, 0.+0.j],\n",
      "          [1.+0.j, 0.+0.j, 0.+0.j, 0.+0.j]],\n",
      "         input_dims=(2, 2), output_dims=(2, 2))\n",
      "[[0.+0.j 0.+0.j 0.+0.j 1.+0.j]\n",
      " [0.+0.j 0.+0.j 1.+0.j 0.+0.j]\n",
      " [0.+0.j 1.+0.j 0.+0.j 0.+0.j]\n",
      " [1.+0.j 0.+0.j 0.+0.j 0.+0.j]]\n",
      "(4, 4)\n"
     ]
    }
   ],
   "source": [
    "XX = Operator([[0, 0, 0, 1],\n",
    "               [0, 0, 1, 0],\n",
    "               [0, 1, 0, 0],\n",
    "               [1, 0, 0, 0]])\n",
    "print(XX)\n",
    "print(XX.data)\n",
    "print(XX.dim)"
   ]
  },
  {
   "cell_type": "code",
   "execution_count": null,
   "id": "22326761-8192-4a21-aaf6-f8c994f80c9d",
   "metadata": {},
   "outputs": [],
   "source": []
  }
 ],
 "metadata": {
  "kernelspec": {
   "display_name": "Python 3 (ipykernel)",
   "language": "python",
   "name": "python3"
  },
  "language_info": {
   "codemirror_mode": {
    "name": "ipython",
    "version": 3
   },
   "file_extension": ".py",
   "mimetype": "text/x-python",
   "name": "python",
   "nbconvert_exporter": "python",
   "pygments_lexer": "ipython3",
   "version": "3.10.8"
  }
 },
 "nbformat": 4,
 "nbformat_minor": 5
}
